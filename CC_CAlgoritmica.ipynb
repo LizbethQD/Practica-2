{
  "nbformat": 4,
  "nbformat_minor": 0,
  "metadata": {
    "colab": {
      "name": "CC-CAlgoritmica",
      "provenance": [],
      "collapsed_sections": []
    },
    "kernelspec": {
      "name": "python3",
      "display_name": "Python 3"
    },
    "language_info": {
      "name": "python"
    }
  },
  "cells": [
    {
      "cell_type": "markdown",
      "source": [
        "COMPLEJIDAD ALGORITMICA\n",
        "\n",
        "NOMBRE: Lizbeth Quezada\n",
        "\n",
        "Ciclo: 4Paralelo \"B\""
      ],
      "metadata": {
        "id": "Jhq6nVuYovPC"
      }
    },
    {
      "cell_type": "markdown",
      "source": [
        "**Introducción a la complejidad algorítmica**\n",
        "\n",
        "La complejidad algorítmica nos permite comparar la eficiencia de 2 algoritmos, esto a su vez va a predecir el tiempo que va a tomar resolver un problema. No solamente podemos analizar la complejidad desde la perspectiva temporal , también la podemos hacer desde la espacial , como por ejemplo cuanto espacio en memoria necesitamos."
      ],
      "metadata": {
        "id": "QgdHrA_jP4wH"
      }
    },
    {
      "cell_type": "markdown",
      "source": [
        "MEDICIÓN TEMPORAL"
      ],
      "metadata": {
        "id": "h37sTm0Z0TJW"
      }
    },
    {
      "cell_type": "code",
      "source": [
        "import time\n",
        "\n",
        "def factorial(n):\n",
        "    respuesta = 1\n",
        "\n",
        "    while n > 1:\n",
        "        respuesta *= n\n",
        "        n -= 1\n",
        "\n",
        "    return respuesta\n",
        "\n",
        "\n",
        "def factorial_r(n):\n",
        "    if n == 1:\n",
        "        return 1\n",
        "\n",
        "    return n * factorial(n - 1)\n",
        "\n",
        "\n",
        "if __name__ == '__main__':\n",
        "    n = 200000\n",
        "\n",
        "    comienzo = time.time()\n",
        "    factorial(n)\n",
        "    final = time.time()\n",
        "    print(final - comienzo)\n",
        "\n",
        "    comienzo = time.time()\n",
        "    factorial_r(n)\n",
        "    final = time.time()\n",
        "    print(final - comienzo)\n",
        "\n"
      ],
      "metadata": {
        "colab": {
          "base_uri": "https://localhost:8080/"
        },
        "id": "F1sKILxjo51X",
        "outputId": "033f9832-28a8-45d2-e333-0699758f2958"
      },
      "execution_count": null,
      "outputs": [
        {
          "output_type": "stream",
          "name": "stdout",
          "text": [
            "14.941483974456787\n",
            "14.931945562362671\n"
          ]
        }
      ]
    },
    {
      "cell_type": "markdown",
      "source": [
        "## Conteo abstracto de conteo"
      ],
      "metadata": {
        "id": "d7kHwOaE0XOY"
      }
    },
    {
      "cell_type": "code",
      "source": [
        "def f(x):\n",
        "\n",
        "    respuesta = 0\n",
        "\n",
        "    for i in range(1000):\n",
        "        respuesta += 1\n",
        "\n",
        "    for i in range(x):\n",
        "        respuesta += x\n",
        "\n",
        "    for i in range(x):\n",
        "        for j in range(x):\n",
        "            respuesta += 1\n",
        "            respuesta += 1\n",
        "\n",
        "    return respuesta\n",
        "\n",
        " "
      ],
      "metadata": {
        "id": "vWi3Iwh_0jwn"
      },
      "execution_count": null,
      "outputs": []
    },
    {
      "cell_type": "markdown",
      "source": [
        "## **Notación asintótica**"
      ],
      "metadata": {
        "id": "cQuA6CPVHC6_"
      }
    },
    {
      "cell_type": "code",
      "source": [
        "def f(n):\n",
        "    for i in range(n):\n",
        "        print(i)\n",
        "\n",
        "    for i in range(n):\n",
        "        print(i)"
      ],
      "metadata": {
        "id": "R_0FyykoDDCe"
      },
      "execution_count": 3,
      "outputs": []
    },
    {
      "cell_type": "code",
      "source": [
        "def f(n):\n",
        "    for i in range(n):\n",
        "        print(i)\n",
        "\n",
        "    for i in range(n * n):\n",
        "        print(i)"
      ],
      "metadata": {
        "id": "9u35w_xxDO5v"
      },
      "execution_count": 4,
      "outputs": []
    },
    {
      "cell_type": "code",
      "source": [
        ""
      ],
      "metadata": {
        "id": "tHe58RaTDW5f"
      },
      "execution_count": null,
      "outputs": []
    },
    {
      "cell_type": "markdown",
      "source": [
        "Algoritmos de búsqueda y ordenación\n",
        "\n",
        "Búsqueda lineal"
      ],
      "metadata": {
        "id": "C7wGx1ZVEY5t"
      }
    },
    {
      "cell_type": "code",
      "source": [
        "import random\n",
        "\n",
        "def busqueda_lineal(lista, objetivo):\n",
        "    match = False\n",
        "\n",
        "    for elemento in lista: # O(n)\n",
        "        if elemento == objetivo:\n",
        "            match = True\n",
        "            break\n",
        "\n",
        "    return match\n",
        "\n",
        "\n",
        "if __name__ == '__main__':\n",
        "    tamano_de_lista = int(input('De que tamano sera la lista? '))\n",
        "    objetivo = int(input('Que numero quieres encontrar? '))\n",
        "\n",
        "    lista = [random.randint(0, 100) for i in range(tamano_de_lista)]\n",
        "\n",
        "    encontrado = busqueda_lineal(lista, objetivo)\n",
        "    print(lista)\n",
        "    print(f'El elemento {objetivo} {\"esta\" if encontrado else \"no esta\"} en la lista')"
      ],
      "metadata": {
        "id": "577cxyvrEc6f",
        "colab": {
          "base_uri": "https://localhost:8080/"
        },
        "outputId": "873f456f-a2e8-4cad-8faa-55412de78944"
      },
      "execution_count": 8,
      "outputs": [
        {
          "output_type": "stream",
          "name": "stdout",
          "text": [
            "De que tamano sera la lista? 12\n",
            "Que numero quieres encontrar? 23\n",
            "[37, 39, 44, 77, 40, 21, 42, 6, 38, 72, 74, 53]\n",
            "El elemento 23 no esta en la lista\n"
          ]
        }
      ]
    },
    {
      "cell_type": "markdown",
      "source": [
        "**Búsqueda binaria**"
      ],
      "metadata": {
        "id": "j1JoP6BDFGjE"
      }
    },
    {
      "cell_type": "code",
      "source": [
        "import random\n",
        "\n",
        "def busqueda_binaria(lista, comienzo, final, objetivo):\n",
        "    print(f'buscando {objetivo} entre {lista[comienzo]} y {lista[final - 1]}')\n",
        "    if comienzo > final:\n",
        "        return False\n",
        "\n",
        "    medio = (comienzo + final) // 2\n",
        "\n",
        "    if lista[medio] == objetivo:\n",
        "        return True\n",
        "    elif lista[medio] < objetivo:\n",
        "        return busqueda_binaria(lista, medio + 1, final, objetivo)\n",
        "    else:\n",
        "        return busqueda_binaria(lista, comienzo, medio - 1, objetivo)\n",
        "\n",
        "\n",
        "if __name__ == '__main__':\n",
        "    tamano_de_lista = int(input('De que tamano es la lista? '))\n",
        "    objetivo = int(input('Que numero quieres encontrar? '))\n",
        "\n",
        "    lista = sorted([random.randint(0, 100) for i in range(tamano_de_lista)])\n",
        "\n",
        "    encontrado = busqueda_binaria(lista, 0, len(lista), objetivo)\n",
        "\n",
        "    print(lista)\n",
        "    print(f'El elemento {objetivo} {\"esta\" if encontrado else \"no esta\"} en la lista')"
      ],
      "metadata": {
        "id": "1UWdDFDVFIYA",
        "colab": {
          "base_uri": "https://localhost:8080/"
        },
        "outputId": "7606084d-aecb-4781-c221-4e2ee73b6636"
      },
      "execution_count": 1,
      "outputs": [
        {
          "output_type": "stream",
          "name": "stdout",
          "text": [
            "De que tamano es la lista? 12\n",
            "Que numero quieres encontrar? 5\n",
            "buscando 5 entre 9 y 81\n",
            "buscando 5 entre 9 y 41\n",
            "buscando 5 entre 9 y 9\n",
            "buscando 5 entre 9 y 80\n",
            "[9, 26, 37, 37, 41, 58, 60, 64, 74, 78, 80, 81]\n",
            "El elemento 5 no esta en la lista\n"
          ]
        }
      ]
    },
    {
      "cell_type": "markdown",
      "source": [
        "## **Ordenamiento de burbuja**"
      ],
      "metadata": {
        "id": "DEVaYySAFdkB"
      }
    },
    {
      "cell_type": "code",
      "source": [
        "import random\n",
        "\n",
        "\n",
        "def ordenamiento_de_burbuja(lista):\n",
        "    n = len(lista)\n",
        "\n",
        "    for i in range(n):\n",
        "        for j in range(0, n - i - 1): # O(n) * O(n) = O(n * n) = O(n**2)\n",
        "\n",
        "            if lista[j] > lista[j + 1]:\n",
        "                lista[j], lista[j + 1] = lista[j + 1], lista[j]\n",
        "\n",
        "    return lista\n",
        "\n",
        "if __name__ == '__main__':\n",
        "    tamano_de_lista = int(input('De que tamano sera la lista? '))\n",
        "\n",
        "    lista = [random.randint(0, 100) for i in range(tamano_de_lista)]\n",
        "    print(lista)\n",
        "\n",
        "    lista_ordenada = ordenamiento_de_burbuja(lista)\n",
        "    print(lista_ordenada)"
      ],
      "metadata": {
        "colab": {
          "base_uri": "https://localhost:8080/"
        },
        "id": "CeQ6gPB-Fk2S",
        "outputId": "982b1dc5-36fa-46a2-c29a-319b5d6e5095"
      },
      "execution_count": 2,
      "outputs": [
        {
          "output_type": "stream",
          "name": "stdout",
          "text": [
            "De que tamano sera la lista? 12\n",
            "[30, 72, 47, 39, 0, 95, 40, 77, 70, 84, 37, 100]\n",
            "[0, 30, 37, 39, 40, 47, 70, 72, 77, 84, 95, 100]\n"
          ]
        }
      ]
    },
    {
      "cell_type": "markdown",
      "source": [
        "## **Ordenamiento por inserción**"
      ],
      "metadata": {
        "id": "zwIAxnO3FxrR"
      }
    },
    {
      "cell_type": "code",
      "source": [
        "def ordenamiento_por_insercion(lista):\n",
        "\n",
        "    for indice in range(1, len(lista)):\n",
        "        valor_actual = lista[indice]\n",
        "        posicion_actual = indice\n",
        "\n",
        "        while posicion_actual > 0 and lista[posicion_actual - 1] > valor_actual:\n",
        "            lista[posicion_actual] = lista[posicion_actual - 1]\n",
        "            posicion_actual -= 1\n",
        "\n",
        "        lista[posicion_actual] = valor_actual\n",
        "      "
      ],
      "metadata": {
        "id": "rpALFn9aF2yL"
      },
      "execution_count": 9,
      "outputs": []
    },
    {
      "cell_type": "markdown",
      "source": [
        "## **Ordenamiento por mezcla**"
      ],
      "metadata": {
        "id": "6t_hLOQ6GbmF"
      }
    },
    {
      "cell_type": "code",
      "source": [
        "import random\n",
        "\n",
        "def ordenamiento_por_mezcla(lista):\n",
        "    if len(lista) > 1:\n",
        "        medio = len(lista) // 2\n",
        "        izquierda = lista[:medio]\n",
        "        derecha = lista[medio:]\n",
        "        print(izquierda, '*' * 5, derecha)\n",
        "\n",
        "        # llamada recursiva en cada mitad\n",
        "        ordenamiento_por_mezcla(izquierda)\n",
        "        ordenamiento_por_mezcla(derecha)\n",
        "\n",
        "        # Iteradores para recorrer las dos sublistas\n",
        "        i = 0\n",
        "        j = 0\n",
        "        # Iterador para la lista principal\n",
        "        k = 0\n",
        "\n",
        "        while i < len(izquierda) and j < len(derecha):\n",
        "            if izquierda[i] < derecha[j]:\n",
        "                lista[k] = izquierda[i]\n",
        "                i += 1\n",
        "            else:\n",
        "                lista[k] = derecha[j]\n",
        "                j += 1\n",
        "\n",
        "            k += 1\n",
        "\n",
        "        while i < len(izquierda):\n",
        "            lista[k] = izquierda[i]\n",
        "            i += 1\n",
        "            k +=1\n",
        "\n",
        "        while j < len(derecha):\n",
        "            lista[k] = derecha[j]\n",
        "            j += 1\n",
        "            k += 1\n",
        "        \n",
        "        print(f'izquierda {izquierda}, derecha {derecha}')\n",
        "        print(lista)\n",
        "        print('-' * 50)\n",
        "\n",
        "    return lista\n",
        "\n",
        "\n",
        "if __name__ == '__main__':\n",
        "    tamano_de_lista = int(input('De que tamano sera la lista? '))\n",
        "\n",
        "    lista = [random.randint(0, 100) for i in range(tamano_de_lista)]\n",
        "    print(lista)\n",
        "    print('-' * 20)\n",
        "\n",
        "    lista_ordenada = ordenamiento_por_mezcla(lista)\n",
        "    print(lista_ordenada)"
      ],
      "metadata": {
        "colab": {
          "base_uri": "https://localhost:8080/"
        },
        "id": "_ZU3nGbAGfJY",
        "outputId": "a7acb68e-ad8f-4d41-e86a-cb198a863d72"
      },
      "execution_count": 10,
      "outputs": [
        {
          "output_type": "stream",
          "name": "stdout",
          "text": [
            "De que tamano sera la lista? 12\n",
            "[42, 31, 70, 89, 52, 63, 49, 65, 92, 92, 34, 38]\n",
            "--------------------\n",
            "[42, 31, 70, 89, 52, 63] ***** [49, 65, 92, 92, 34, 38]\n",
            "[42, 31, 70] ***** [89, 52, 63]\n",
            "[42] ***** [31, 70]\n",
            "[31] ***** [70]\n",
            "izquierda [31], derecha [70]\n",
            "[31, 70]\n",
            "--------------------------------------------------\n",
            "izquierda [42], derecha [31, 70]\n",
            "[31, 42, 70]\n",
            "--------------------------------------------------\n",
            "[89] ***** [52, 63]\n",
            "[52] ***** [63]\n",
            "izquierda [52], derecha [63]\n",
            "[52, 63]\n",
            "--------------------------------------------------\n",
            "izquierda [89], derecha [52, 63]\n",
            "[52, 63, 89]\n",
            "--------------------------------------------------\n",
            "izquierda [31, 42, 70], derecha [52, 63, 89]\n",
            "[31, 42, 52, 63, 70, 89]\n",
            "--------------------------------------------------\n",
            "[49, 65, 92] ***** [92, 34, 38]\n",
            "[49] ***** [65, 92]\n",
            "[65] ***** [92]\n",
            "izquierda [65], derecha [92]\n",
            "[65, 92]\n",
            "--------------------------------------------------\n",
            "izquierda [49], derecha [65, 92]\n",
            "[49, 65, 92]\n",
            "--------------------------------------------------\n",
            "[92] ***** [34, 38]\n",
            "[34] ***** [38]\n",
            "izquierda [34], derecha [38]\n",
            "[34, 38]\n",
            "--------------------------------------------------\n",
            "izquierda [92], derecha [34, 38]\n",
            "[34, 38, 92]\n",
            "--------------------------------------------------\n",
            "izquierda [49, 65, 92], derecha [34, 38, 92]\n",
            "[34, 38, 49, 65, 92, 92]\n",
            "--------------------------------------------------\n",
            "izquierda [31, 42, 52, 63, 70, 89], derecha [34, 38, 49, 65, 92, 92]\n",
            "[31, 34, 38, 42, 49, 52, 63, 65, 70, 89, 92, 92]\n",
            "--------------------------------------------------\n",
            "[31, 34, 38, 42, 49, 52, 63, 65, 70, 89, 92, 92]\n"
          ]
        }
      ]
    }
  ]
}